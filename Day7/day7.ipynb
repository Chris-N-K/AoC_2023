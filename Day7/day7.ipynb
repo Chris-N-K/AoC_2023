{
 "cells": [
  {
   "cell_type": "code",
   "execution_count": 2,
   "metadata": {},
   "outputs": [
    {
     "name": "stdout",
     "output_type": "stream",
     "text": [
      "Camel Cards\n",
      "32T3K 765\n",
      "T55J5 684\n",
      "KK677 28\n",
      "KTJJT 220\n",
      "QQQJA 483\n"
     ]
    }
   ],
   "source": [
    "from aocd.models  import Puzzle\n",
    "from aocd import submit\n",
    "\n",
    "puzzle = Puzzle(2023, 7)\n",
    "print(puzzle.title)\n",
    "ex_input = puzzle.examples[0].input_data\n",
    "print(ex_input)"
   ]
  },
  {
   "cell_type": "code",
   "execution_count": 3,
   "metadata": {},
   "outputs": [],
   "source": [
    "puzzle.view()"
   ]
  },
  {
   "cell_type": "code",
   "execution_count": 44,
   "metadata": {},
   "outputs": [
    {
     "data": {
      "text/plain": [
       "'6440 == 6440'"
      ]
     },
     "execution_count": 44,
     "metadata": {},
     "output_type": "execute_result"
    }
   ],
   "source": [
    "def hand_to_points(hand):\n",
    "    points = ['J', '2', '3', '4', '5', '6', '7', '8', '9', 'T', 'J', 'Q', 'K', 'A']\n",
    "    return [points.index(c) for c in hand]\n",
    "\n",
    "\n",
    "def get_hand_value(hand):\n",
    "    unique = set(hand)\n",
    "    if len(unique) == 1:\n",
    "        return 6, *hand_to_points(hand)\n",
    "    elif len(unique) == 2:\n",
    "        if max([hand.count(c) for c in unique]) == 4:\n",
    "            return 5, *hand_to_points(hand)\n",
    "        else:\n",
    "            return 4, *hand_to_points(hand)\n",
    "    elif len(unique) == 3:\n",
    "        if max([hand.count(c) for c in unique]) == 3:\n",
    "            return 3, *hand_to_points(hand)\n",
    "        else:\n",
    "            return 2, *hand_to_points(hand)\n",
    "    elif len(unique) == 4:\n",
    "        return 1, *hand_to_points(hand)\n",
    "    else:\n",
    "        return 0, *hand_to_points(hand)\n",
    "\n",
    "\n",
    "def solution_a(input_data):\n",
    "    hands = []\n",
    "    for l in input_data.split('\\n'):\n",
    "        hand, bid = l.split()\n",
    "        bid = int(bid)\n",
    "        hands.append((\n",
    "            get_hand_value(hand),\n",
    "            hand,\n",
    "            bid,\n",
    "        ))\n",
    "\n",
    "    win = 0\n",
    "    ranked = sorted(hands, key=lambda x: x[0])\n",
    "    for rank, t in enumerate(ranked):\n",
    "        win += t[2] * (rank +1)\n",
    "\n",
    "    return win\n",
    "\n",
    "\n",
    "answer_a_example = solution_a(ex_input)\n",
    "f'{answer_a_example} == {puzzle.examples[0].answer_a}'"
   ]
  },
  {
   "cell_type": "code",
   "execution_count": 35,
   "metadata": {},
   "outputs": [
    {
     "name": "stdout",
     "output_type": "stream",
     "text": [
      "250120186\n",
      "\u001b[32mThat's the right answer!  You are one gold star closer to restoring snow operations. [Continue to Part Two]\u001b[0m\n"
     ]
    },
    {
     "data": {
      "text/plain": [
       "<urllib3.response.HTTPResponse at 0x7f3fe3005600>"
      ]
     },
     "execution_count": 35,
     "metadata": {},
     "output_type": "execute_result"
    }
   ],
   "source": [
    "answer_a = solution_a(puzzle.input_data)\n",
    "print(answer_a)\n",
    "submit(answer_a, day=7, year=2023, part='a')"
   ]
  },
  {
   "cell_type": "code",
   "execution_count": 125,
   "metadata": {},
   "outputs": [
    {
     "data": {
      "text/plain": [
       "'5905 == 5905'"
      ]
     },
     "execution_count": 125,
     "metadata": {},
     "output_type": "execute_result"
    }
   ],
   "source": [
    "from collections import Counter\n",
    "\n",
    "\n",
    "def match_jokers(hand):\n",
    "    jhand = list(hand)\n",
    "    if 0 in jhand:\n",
    "        while 0 in jhand:\n",
    "            jhand.remove(0)\n",
    "        if jhand:\n",
    "            mc_value = sorted(Counter(jhand).most_common(), key=lambda x: [x[1], int(x[0])], reverse=True)[0][0]\n",
    "            return [mc_value if c == 0 else c for c in hand]\n",
    "    return hand\n",
    "\n",
    "\n",
    "def get_hand_value(jhand, phand):\n",
    "    unique = set(jhand)\n",
    "    if len(unique) == 1:\n",
    "        return 6, *phand\n",
    "    elif len(unique) == 2:\n",
    "        if max([jhand.count(c) for c in unique]) == 4:\n",
    "            return 5, *phand\n",
    "        else:\n",
    "            return 4, *phand\n",
    "    elif len(unique) == 3:\n",
    "        if max([jhand.count(c) for c in unique]) == 3:\n",
    "            return 3, *phand\n",
    "        else:\n",
    "            return 2, *phand\n",
    "    elif len(unique) == 4:\n",
    "        return 1, *phand\n",
    "    else:\n",
    "        return 0, *phand\n",
    "\n",
    "\n",
    "def solution_b(input_data):\n",
    "    hands = []\n",
    "    for l in input_data.split('\\n'):\n",
    "        hand, bid = l.split()\n",
    "        phand = hand_to_points(hand)\n",
    "        jhand = match_jokers(phand)\n",
    "        bid = int(bid)\n",
    "        hands.append((\n",
    "            get_hand_value(jhand, phand),\n",
    "            bid,\n",
    "        ))\n",
    "    win = 0\n",
    "    ranked = sorted(hands, key=lambda x: x[0])\n",
    "    for rank, t in enumerate(ranked):\n",
    "        win += t[1] * (rank +1)\n",
    "\n",
    "    return win\n",
    "\n",
    "\n",
    "answer_b_example = solution_b(ex_input)\n",
    "f'{answer_b_example} == 5905'"
   ]
  },
  {
   "cell_type": "code",
   "execution_count": 127,
   "metadata": {},
   "outputs": [
    {
     "name": "stdout",
     "output_type": "stream",
     "text": [
      "250665248\n",
      "\u001b[32mThat's the right answer!  You are one gold star closer to restoring snow operations.You have completed Day 7! You can [Shareon\n",
      "  Twitter\n",
      "Mastodon] this victory or [Return to Your Advent Calendar].\u001b[0m\n"
     ]
    },
    {
     "data": {
      "text/plain": [
       "<urllib3.response.HTTPResponse at 0x7f3fe18ce860>"
      ]
     },
     "execution_count": 127,
     "metadata": {},
     "output_type": "execute_result"
    }
   ],
   "source": [
    "answer_b = solution_b(puzzle.input_data)\n",
    "print(answer_b)\n",
    "submit(answer_b, day=7, year=2023, part='b')"
   ]
  },
  {
   "cell_type": "code",
   "execution_count": null,
   "metadata": {},
   "outputs": [],
   "source": []
  }
 ],
 "metadata": {
  "kernelspec": {
   "display_name": "aoc",
   "language": "python",
   "name": "python3"
  },
  "language_info": {
   "codemirror_mode": {
    "name": "ipython",
    "version": 3
   },
   "file_extension": ".py",
   "mimetype": "text/x-python",
   "name": "python",
   "nbconvert_exporter": "python",
   "pygments_lexer": "ipython3",
   "version": "3.12.0"
  },
  "orig_nbformat": 4
 },
 "nbformat": 4,
 "nbformat_minor": 2
}
