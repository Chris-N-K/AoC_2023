{
 "cells": [
  {
   "cell_type": "code",
   "execution_count": 30,
   "metadata": {},
   "outputs": [
    {
     "name": "stdout",
     "output_type": "stream",
     "text": [
      "Cube Conundrum\n"
     ]
    }
   ],
   "source": [
    "from aocd.models  import Puzzle\n",
    "from aocd import submit\n",
    "\n",
    "puzzle = Puzzle(2023, 2)\n",
    "print(puzzle.title)"
   ]
  },
  {
   "cell_type": "code",
   "execution_count": null,
   "metadata": {},
   "outputs": [],
   "source": [
    "puzzle.view()"
   ]
  },
  {
   "cell_type": "code",
   "execution_count": 6,
   "metadata": {},
   "outputs": [
    {
     "data": {
      "text/plain": [
       "Example(input_data='Game 1: 3 blue, 4 red; 1 red, 2 green, 6 blue; 2 green\\nGame 2: 1 blue, 2 green; 3 green, 4 blue, 1 red; 1 green, 1 blue\\nGame 3: 8 green, 6 blue, 20 red; 5 blue, 4 red, 13 green; 5 green, 1 red\\nGame 4: 1 green, 3 red, 6 blue; 3 green, 6 red; 3 green, 15 blue, 14 red\\nGame 5: 6 red, 1 blue, 3 green; 2 blue, 1 red, 2 green', answer_a='8', answer_b=None, extra=None)"
      ]
     },
     "execution_count": 6,
     "metadata": {},
     "output_type": "execute_result"
    }
   ],
   "source": [
    "example_a = puzzle.examples[0]\n",
    "example_a"
   ]
  },
  {
   "cell_type": "code",
   "execution_count": 25,
   "metadata": {},
   "outputs": [
    {
     "data": {
      "text/plain": [
       "'8 == 8'"
      ]
     },
     "execution_count": 25,
     "metadata": {},
     "output_type": "execute_result"
    }
   ],
   "source": [
    "def solution_a(input_data):\n",
    "    available = dict(red=12, green=13, blue=14)\n",
    "    x = 0\n",
    "    for gid, game in enumerate(input_data.split('\\n')):\n",
    "        valid = []\n",
    "        for round in game.split(': ')[1].split('; '):\n",
    "            draws = {}\n",
    "            for draw in round.split(', '):\n",
    "                count, cube = draw.split()\n",
    "                draws[cube] = count\n",
    "            valid.append(all(available[cube] >= int(count) for cube, count in draws.items()))\n",
    "        if all(valid):\n",
    "            x += gid+1\n",
    "    return x\n",
    "\n",
    "example_a_solution = solution_a(example_a.input_data)\n",
    "f'{example_a_solution} == {example_a.answer_a}'"
   ]
  },
  {
   "cell_type": "code",
   "execution_count": 27,
   "metadata": {},
   "outputs": [
    {
     "name": "stdout",
     "output_type": "stream",
     "text": [
      "2810\n",
      "\u001b[32mThat's the right answer!  You are one gold star closer to restoring snow operations. [Continue to Part Two]\u001b[0m\n"
     ]
    },
    {
     "data": {
      "text/plain": [
       "<urllib3.response.HTTPResponse at 0x7f88fe17a320>"
      ]
     },
     "execution_count": 27,
     "metadata": {},
     "output_type": "execute_result"
    }
   ],
   "source": [
    "answer_a = solution_a(puzzle.input_data)\n",
    "print(answer_a)\n",
    "submit(answer_a, day=2, year=2023, part='a')"
   ]
  },
  {
   "cell_type": "code",
   "execution_count": 39,
   "metadata": {},
   "outputs": [],
   "source": [
    "# extraction of example answer b does not work propperly...abs\n",
    "example_b_answer = 2286"
   ]
  },
  {
   "cell_type": "code",
   "execution_count": 41,
   "metadata": {},
   "outputs": [
    {
     "data": {
      "text/plain": [
       "'2286 == 2286'"
      ]
     },
     "execution_count": 41,
     "metadata": {},
     "output_type": "execute_result"
    }
   ],
   "source": [
    "from math import prod\n",
    "\n",
    "\n",
    "def solution_b(input_data):\n",
    "    x = 0\n",
    "    for gid, game in enumerate(input_data.split('\\n')):\n",
    "        min_cubes = dict(red=0, green=0, blue=0)\n",
    "        for round in game.split(': ')[1].split('; '):\n",
    "            for draw in round.split(', '):\n",
    "                count, cube = draw.split()\n",
    "                if int(count) > min_cubes[cube]:\n",
    "                    min_cubes[cube] = int(count)\n",
    "        cube_power = prod(min_cubes.values())\n",
    "        x += cube_power\n",
    "    return x\n",
    "\n",
    "example_a_solution = solution_a(example_a.input_data)\n",
    "f'{example_a_solution} == {example_b_answer}'"
   ]
  },
  {
   "cell_type": "code",
   "execution_count": 43,
   "metadata": {},
   "outputs": [
    {
     "name": "stdout",
     "output_type": "stream",
     "text": [
      "69110\n",
      "\u001b[32mThat's the right answer!  You are one gold star closer to restoring snow operations.You have completed Day 2! You can [Shareon\n",
      "  Twitter\n",
      "Mastodon] this victory or [Return to Your Advent Calendar].\u001b[0m\n"
     ]
    },
    {
     "data": {
      "text/plain": [
       "<urllib3.response.HTTPResponse at 0x7f88fda517b0>"
      ]
     },
     "execution_count": 43,
     "metadata": {},
     "output_type": "execute_result"
    }
   ],
   "source": [
    "answer_b = solution_b(puzzle.input_data)\n",
    "print(answer_b)\n",
    "submit(answer_b, day=2, year=2023, part='b')"
   ]
  },
  {
   "cell_type": "code",
   "execution_count": null,
   "metadata": {},
   "outputs": [],
   "source": []
  }
 ],
 "metadata": {
  "kernelspec": {
   "display_name": "aoc",
   "language": "python",
   "name": "python3"
  },
  "language_info": {
   "codemirror_mode": {
    "name": "ipython",
    "version": 3
   },
   "file_extension": ".py",
   "mimetype": "text/x-python",
   "name": "python",
   "nbconvert_exporter": "python",
   "pygments_lexer": "ipython3",
   "version": "3.12.0"
  },
  "orig_nbformat": 4
 },
 "nbformat": 4,
 "nbformat_minor": 2
}
