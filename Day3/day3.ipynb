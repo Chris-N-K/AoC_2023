{
 "cells": [
  {
   "cell_type": "code",
   "execution_count": 1,
   "metadata": {},
   "outputs": [
    {
     "name": "stdout",
     "output_type": "stream",
     "text": [
      "Gear Ratios\n"
     ]
    }
   ],
   "source": [
    "from aocd.models  import Puzzle\n",
    "from aocd import submit\n",
    "\n",
    "puzzle = Puzzle(2023, 3)\n",
    "print(puzzle.title)"
   ]
  },
  {
   "cell_type": "code",
   "execution_count": 2,
   "metadata": {},
   "outputs": [],
   "source": [
    "puzzle.view()"
   ]
  },
  {
   "cell_type": "code",
   "execution_count": 106,
   "metadata": {},
   "outputs": [
    {
     "name": "stdout",
     "output_type": "stream",
     "text": [
      "467..114..\n",
      "...*......\n",
      "..35..633.\n",
      "......#...\n",
      "617*......\n",
      ".....+.58.\n",
      "..592.....\n",
      "......755.\n",
      "...$.*....\n",
      ".664.598..\n"
     ]
    }
   ],
   "source": [
    "example = puzzle.examples[0]\n",
    "print(example.input_data)"
   ]
  },
  {
   "cell_type": "code",
   "execution_count": 199,
   "metadata": {},
   "outputs": [
    {
     "data": {
      "text/plain": [
       "'4361 == 4361'"
      ]
     },
     "execution_count": 199,
     "metadata": {},
     "output_type": "execute_result"
    }
   ],
   "source": [
    "from itertools import product\n",
    "\n",
    "\n",
    "def get_symbols(input_data):\n",
    "    symbols = []\n",
    "    for i in input_data:\n",
    "        if not i.isdigit() and not i in ['.', '\\n']:\n",
    "            symbols.append(i)\n",
    "    return set(symbols)\n",
    "\n",
    "\n",
    "def get_neighbours(r, c, maxr, maxc):\n",
    "    n_r = [r -1, r, r +1]\n",
    "    n_c = [c -1, c, c +1]\n",
    "    raw_n = product(n_r, n_c)\n",
    "    n_idx = [p for p in raw_n if p != (r, c) and 0 <= p[0] < maxr and 0 <= p[1] < maxc]\n",
    "    return n_idx\n",
    "\n",
    "\n",
    "def solution_a(input_data):\n",
    "    data = input_data.split()\n",
    "    symbols = get_symbols(input_data)\n",
    "    lenr = len(data)\n",
    "    lenc = len(data[0])\n",
    "\n",
    "    sym_idx = []\n",
    "    for r, line in enumerate(data):\n",
    "        for c, i in enumerate(line):\n",
    "            if i in symbols:\n",
    "                f = 10 * r + c\n",
    "                sym_idx.append((f, r, c))\n",
    "    \n",
    "    num_idx = []\n",
    "    for (f, r, c) in sym_idx:\n",
    "        neighbour_idx = get_neighbours(r, c, lenr, lenc)\n",
    "        for (nr, nc) in neighbour_idx:\n",
    "            if data[nr][nc].isdigit():\n",
    "                num_idx.append((nr, nc))\n",
    "    \n",
    "    part_numbers = {}\n",
    "    for (r, c) in num_idx:\n",
    "        for i in range(c, -1, -1):\n",
    "            character = data[r][i]\n",
    "            if character.isdigit():\n",
    "                min_c = i\n",
    "            else:\n",
    "                break\n",
    "        for i in range(c, lenc):\n",
    "            character = data[r][i]\n",
    "            if character.isdigit():\n",
    "                max_c = i+1\n",
    "            else:\n",
    "                break\n",
    "        part_numbers[f'{r}_{min_c}_{max_c}'] = int(data[r][min_c:max_c])\n",
    "\n",
    "    return sum(part_numbers.values())\n",
    "\n",
    "answer_a_example = solution_a(example.input_data)\n",
    "f'{answer_a_example} == {example.answer_a}'"
   ]
  },
  {
   "cell_type": "code",
   "execution_count": 197,
   "metadata": {},
   "outputs": [
    {
     "name": "stdout",
     "output_type": "stream",
     "text": [
      "519444\n",
      "\u001b[32mThat's the right answer!  You are one gold star closer to restoring snow operations. [Continue to Part Two]\u001b[0m\n"
     ]
    },
    {
     "data": {
      "text/plain": [
       "<urllib3.response.HTTPResponse at 0x7f8eb9aba6b0>"
      ]
     },
     "execution_count": 197,
     "metadata": {},
     "output_type": "execute_result"
    }
   ],
   "source": [
    "answer_a = solution_a(puzzle.input_data)\n",
    "print(answer_a)\n",
    "submit(answer_a, day=3, year=2023, part='a')"
   ]
  },
  {
   "cell_type": "code",
   "execution_count": 202,
   "metadata": {},
   "outputs": [
    {
     "name": "stdout",
     "output_type": "stream",
     "text": [
      "467..114..\n",
      "...*......\n",
      "..35..633.\n",
      "......#...\n",
      "617*......\n",
      ".....+.58.\n",
      "..592.....\n",
      "......755.\n",
      "...$.*....\n",
      ".664.598..\n",
      "('4361', None)\n"
     ]
    }
   ],
   "source": [
    "puzzle = Puzzle(2023, 3)\n",
    "example = puzzle.examples[0]\n",
    "print(example.input_data)\n",
    "print(example.answers)"
   ]
  },
  {
   "cell_type": "code",
   "execution_count": 204,
   "metadata": {},
   "outputs": [],
   "source": [
    "example_answer_b=467835"
   ]
  },
  {
   "cell_type": "code",
   "execution_count": 226,
   "metadata": {},
   "outputs": [
    {
     "data": {
      "text/plain": [
       "'467835 == 467835'"
      ]
     },
     "execution_count": 226,
     "metadata": {},
     "output_type": "execute_result"
    }
   ],
   "source": [
    "def solution_b(input_data):\n",
    "    data = input_data.split()\n",
    "    symbols = ['*']\n",
    "    lenr = len(data)\n",
    "    lenc = len(data[0])\n",
    "\n",
    "    sym_idx = []\n",
    "    for r, line in enumerate(data):\n",
    "        for c, i in enumerate(line):\n",
    "            if i in symbols:\n",
    "                f = 10 * r + c\n",
    "                sym_idx.append((f, r, c))\n",
    "    \n",
    "    num_idx = {}\n",
    "    for (f, r, c) in sym_idx:\n",
    "        neighbour_idx = get_neighbours(r, c, lenr, lenc)\n",
    "        num_idx[f'{r}_{c}'] = [] \n",
    "        for (nr, nc) in neighbour_idx:\n",
    "            if data[nr][nc].isdigit():\n",
    "                num_idx[f'{r}_{c}'].append((nr, nc))\n",
    "    \n",
    "    gear_ratios = []\n",
    "    for val in num_idx.values():\n",
    "        gear = {}\n",
    "        for (r, c) in val:\n",
    "            for i in range(c, -1, -1):\n",
    "                character = data[r][i]\n",
    "                if character.isdigit():\n",
    "                    min_c = i\n",
    "                else:\n",
    "                    break\n",
    "            for i in range(c, lenc):\n",
    "                character = data[r][i]\n",
    "                if character.isdigit():\n",
    "                    max_c = i+1\n",
    "                else:\n",
    "                    break\n",
    "            gear[f'{r}_{min_c}_{max_c}'] = int(data[r][min_c:max_c])\n",
    "        gear_n = list(gear.values())\n",
    "        if len(gear_n) == 2:\n",
    "            gear_r = gear_n[0] * gear_n[1]\n",
    "            gear_ratios.append(gear_r)\n",
    "\n",
    "    return sum(gear_ratios)\n",
    "\n",
    "answer_b_example = solution_b(example.input_data)\n",
    "f'{answer_b_example} == {example_answer_b}'"
   ]
  },
  {
   "cell_type": "code",
   "execution_count": 227,
   "metadata": {},
   "outputs": [
    {
     "name": "stdout",
     "output_type": "stream",
     "text": [
      "74528807\n",
      "\u001b[32mThat's the right answer!  You are one gold star closer to restoring snow operations.You have completed Day 3! You can [Shareon\n",
      "  Twitter\n",
      "Mastodon] this victory or [Return to Your Advent Calendar].\u001b[0m\n"
     ]
    },
    {
     "data": {
      "text/plain": [
       "<urllib3.response.HTTPResponse at 0x7f8eeca2dbd0>"
      ]
     },
     "execution_count": 227,
     "metadata": {},
     "output_type": "execute_result"
    }
   ],
   "source": [
    "answer_b = solution_b(puzzle.input_data)\n",
    "print(answer_b)\n",
    "submit(answer_b, day=3, year=2023, part='b')"
   ]
  },
  {
   "cell_type": "code",
   "execution_count": null,
   "metadata": {},
   "outputs": [],
   "source": []
  }
 ],
 "metadata": {
  "kernelspec": {
   "display_name": "aoc",
   "language": "python",
   "name": "python3"
  },
  "language_info": {
   "codemirror_mode": {
    "name": "ipython",
    "version": 3
   },
   "file_extension": ".py",
   "mimetype": "text/x-python",
   "name": "python",
   "nbconvert_exporter": "python",
   "pygments_lexer": "ipython3",
   "version": "3.12.0"
  },
  "orig_nbformat": 4
 },
 "nbformat": 4,
 "nbformat_minor": 2
}
