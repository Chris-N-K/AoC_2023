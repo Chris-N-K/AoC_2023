{
 "cells": [
  {
   "cell_type": "code",
   "execution_count": 1,
   "metadata": {},
   "outputs": [
    {
     "name": "stdout",
     "output_type": "stream",
     "text": [
      "If You Give A Seed A Fertilizer\n"
     ]
    }
   ],
   "source": [
    "from aocd.models  import Puzzle\n",
    "from aocd import submit\n",
    "\n",
    "puzzle = Puzzle(2023, 5)\n",
    "print(puzzle.title)\n",
    "#puzzle.view()\n",
    "ex_input = puzzle.examples[0].input_data\n",
    "#print(ex_input)"
   ]
  },
  {
   "cell_type": "code",
   "execution_count": 2,
   "metadata": {},
   "outputs": [
    {
     "data": {
      "text/plain": [
       "'35 == 35'"
      ]
     },
     "execution_count": 2,
     "metadata": {},
     "output_type": "execute_result"
    }
   ],
   "source": [
    "def solution_a(input_data):\n",
    "    sections = input_data.split('\\n\\n')\n",
    "    seeds = [int(i) for i in sections[0].replace('seeds: ','').split()]\n",
    "\n",
    "    # parse maps\n",
    "    maps = {}\n",
    "    for l in sections[1:]:\n",
    "        map_id, mapping = l.split(' map:\\n')\n",
    "        raw_ranges = [list(map(int, l.split())) for l in mapping.split('\\n')]\n",
    "        \n",
    "        ranges = []\n",
    "        for l in raw_ranges:\n",
    "            source_r = (l[1], l[1] + l[2])\n",
    "            dest_r = (l[0], l[0] +l[2])\n",
    "            ranges.append((source_r, dest_r))\n",
    "        maps[map_id] = ranges\n",
    "\n",
    "    # seed mappings\n",
    "    s_mappings = {}\n",
    "    for s in seeds:\n",
    "        x = s\n",
    "        mapping = {}\n",
    "        for map_id, x_to_y in maps.items():\n",
    "            y = x\n",
    "            for rmap in x_to_y:\n",
    "                if rmap[0][0] <= x < rmap[0][1]:\n",
    "                    y = rmap[1][1] - (rmap[0][1] - x)\n",
    "            mapping[map_id] = y\n",
    "            x = y\n",
    "        s_mappings[s] = mapping\n",
    "    \n",
    "    locations = [mappings['humidity-to-location'] for mappings in s_mappings.values()]\n",
    "    return s_mappings, min(locations)\n",
    "\n",
    "\n",
    "s_mappings, answer_a_exmaple = solution_a(ex_input)\n",
    "answer_a_exmaple\n",
    "f'{answer_a_exmaple} == {puzzle.examples[0].answer_a}'"
   ]
  },
  {
   "cell_type": "code",
   "execution_count": 3,
   "metadata": {},
   "outputs": [
    {
     "data": {
      "text/plain": [
       "{79: {'seed-to-soil': 81,\n",
       "  'soil-to-fertilizer': 81,\n",
       "  'fertilizer-to-water': 81,\n",
       "  'water-to-light': 74,\n",
       "  'light-to-temperature': 78,\n",
       "  'temperature-to-humidity': 78,\n",
       "  'humidity-to-location': 82},\n",
       " 14: {'seed-to-soil': 14,\n",
       "  'soil-to-fertilizer': 53,\n",
       "  'fertilizer-to-water': 49,\n",
       "  'water-to-light': 42,\n",
       "  'light-to-temperature': 42,\n",
       "  'temperature-to-humidity': 43,\n",
       "  'humidity-to-location': 43},\n",
       " 55: {'seed-to-soil': 57,\n",
       "  'soil-to-fertilizer': 57,\n",
       "  'fertilizer-to-water': 53,\n",
       "  'water-to-light': 46,\n",
       "  'light-to-temperature': 82,\n",
       "  'temperature-to-humidity': 82,\n",
       "  'humidity-to-location': 86},\n",
       " 13: {'seed-to-soil': 13,\n",
       "  'soil-to-fertilizer': 52,\n",
       "  'fertilizer-to-water': 41,\n",
       "  'water-to-light': 34,\n",
       "  'light-to-temperature': 34,\n",
       "  'temperature-to-humidity': 35,\n",
       "  'humidity-to-location': 35}}"
      ]
     },
     "execution_count": 3,
     "metadata": {},
     "output_type": "execute_result"
    }
   ],
   "source": [
    "s_mappings"
   ]
  },
  {
   "cell_type": "code",
   "execution_count": 23,
   "metadata": {},
   "outputs": [
    {
     "name": "stdout",
     "output_type": "stream",
     "text": [
      "240320250\n",
      "\u001b[32mThat's the right answer!  You are one gold star closer to restoring snow operations. [Continue to Part Two]\u001b[0m\n"
     ]
    },
    {
     "data": {
      "text/plain": [
       "<urllib3.response.HTTPResponse at 0x7fae1b5dd960>"
      ]
     },
     "execution_count": 23,
     "metadata": {},
     "output_type": "execute_result"
    }
   ],
   "source": [
    "answer_a = solution_a(puzzle.input_data)\n",
    "print(answer_a)\n",
    "submit(answer_a, day=5, year=2023, part='a')"
   ]
  },
  {
   "cell_type": "code",
   "execution_count": 17,
   "metadata": {},
   "outputs": [
    {
     "data": {
      "text/plain": [
       "'46 == 46'"
      ]
     },
     "execution_count": 17,
     "metadata": {},
     "output_type": "execute_result"
    }
   ],
   "source": [
    "from functools import partial\n",
    "from multiprocessing import Pool\n",
    "from numba import njit\n",
    "\n",
    "example_b_answer = 46\n",
    "\n",
    "\n",
    "@njit()\n",
    "def find_min_loc(seed: tuple, maps: tuple):\n",
    "    min_loc = None\n",
    "    (s_start, s_stop) = seed\n",
    "    while s_start < s_stop:\n",
    "        x = s_start\n",
    "        for (map_id, x_to_y) in maps:\n",
    "            y = x\n",
    "            for rmap in x_to_y:\n",
    "                if rmap[0][0] <= x < rmap[0][1]:\n",
    "                    y = rmap[1][1] - (rmap[0][1] - x)\n",
    "            if map_id == 'humidity-to-location':\n",
    "                if min_loc is None or y < min_loc:\n",
    "                    min_loc = y\n",
    "            else:\n",
    "                x = y\n",
    "        s_start += 1\n",
    "    return min_loc\n",
    "\n",
    "\n",
    "def solution_b(input_data):\n",
    "    sections = input_data.split('\\n\\n')\n",
    "\n",
    "    # parse seeds\n",
    "    seed_nums = [int(i) for i in sections[0].replace('seeds: ','').split()]\n",
    "    seeds = []\n",
    "    for i in range(0, len(seed_nums), 2):\n",
    "        s_range = (seed_nums[i], seed_nums[i]+seed_nums[i+1])\n",
    "        seeds.append(s_range)\n",
    "\n",
    "    # parse maps\n",
    "    maps = {}\n",
    "    for l in sections[1:]:\n",
    "        map_id, mapping = l.split(' map:\\n')\n",
    "        raw_ranges = [list(map(int, l.split())) for l in mapping.split('\\n')]\n",
    "        \n",
    "        ranges = []\n",
    "        for l in raw_ranges:\n",
    "            source_r = (l[1], l[1] + l[2])\n",
    "            dest_r = (l[0], l[0] +l[2])\n",
    "            ranges.append((source_r, dest_r))\n",
    "        maps[map_id] = ranges\n",
    "\n",
    "    with Pool() as p:\n",
    "        res = p.map(partial(find_min_loc, maps=tuple(maps.items())), tuple(seeds))\n",
    "\n",
    "    return min(res)\n",
    "\n",
    "\n",
    "answer_b_exmaple = solution_b(ex_input)\n",
    "answer_b_exmaple\n",
    "f'{answer_b_exmaple} == {example_b_answer}'"
   ]
  },
  {
   "cell_type": "code",
   "execution_count": 18,
   "metadata": {},
   "outputs": [
    {
     "name": "stdout",
     "output_type": "stream",
     "text": [
      "28580589\n"
     ]
    }
   ],
   "source": [
    "answer_b = solution_b(puzzle.input_data)\n",
    "print(answer_b)"
   ]
  },
  {
   "cell_type": "code",
   "execution_count": 19,
   "metadata": {},
   "outputs": [
    {
     "name": "stdout",
     "output_type": "stream",
     "text": [
      "\u001b[32mThat's the right answer!  You are one gold star closer to restoring snow operations.You have completed Day 5! You can [Shareon\n",
      "  Twitter\n",
      "Mastodon] this victory or [Return to Your Advent Calendar].\u001b[0m\n"
     ]
    },
    {
     "data": {
      "text/plain": [
       "<urllib3.response.HTTPResponse at 0x7f762c846b30>"
      ]
     },
     "execution_count": 19,
     "metadata": {},
     "output_type": "execute_result"
    }
   ],
   "source": [
    "submit(answer_b, day=5, year=2023, part='b')"
   ]
  },
  {
   "cell_type": "code",
   "execution_count": null,
   "metadata": {},
   "outputs": [],
   "source": []
  }
 ],
 "metadata": {
  "kernelspec": {
   "display_name": "aoc",
   "language": "python",
   "name": "python3"
  },
  "language_info": {
   "codemirror_mode": {
    "name": "ipython",
    "version": 3
   },
   "file_extension": ".py",
   "mimetype": "text/x-python",
   "name": "python",
   "nbconvert_exporter": "python",
   "pygments_lexer": "ipython3",
   "version": "3.11.6"
  },
  "orig_nbformat": 4
 },
 "nbformat": 4,
 "nbformat_minor": 2
}
