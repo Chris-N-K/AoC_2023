{
 "cells": [
  {
   "cell_type": "code",
   "execution_count": 1,
   "metadata": {},
   "outputs": [
    {
     "name": "stdout",
     "output_type": "stream",
     "text": [
      "Haunted Wasteland\n",
      "RL\n",
      "\n",
      "AAA = (BBB, CCC)\n",
      "BBB = (DDD, EEE)\n",
      "CCC = (ZZZ, GGG)\n",
      "DDD = (DDD, DDD)\n",
      "EEE = (EEE, EEE)\n",
      "GGG = (GGG, GGG)\n",
      "ZZZ = (ZZZ, ZZZ)\n"
     ]
    }
   ],
   "source": [
    "from aocd.models  import Puzzle\n",
    "from aocd import submit\n",
    "\n",
    "puzzle = Puzzle(2023, 8)\n",
    "print(puzzle.title)\n",
    "ex_input = puzzle.examples[0].input_data\n",
    "print(ex_input)"
   ]
  },
  {
   "cell_type": "code",
   "execution_count": 2,
   "metadata": {},
   "outputs": [],
   "source": [
    "puzzle.view()"
   ]
  },
  {
   "cell_type": "code",
   "execution_count": 6,
   "metadata": {},
   "outputs": [],
   "source": [
    "ex_input2 = \"\"\"LLR\n",
    "\n",
    "AAA = (BBB, BBB)\n",
    "BBB = (AAA, ZZZ)\n",
    "ZZZ = (ZZZ, ZZZ)\"\"\""
   ]
  },
  {
   "cell_type": "code",
   "execution_count": 7,
   "metadata": {},
   "outputs": [
    {
     "data": {
      "text/plain": [
       "'6 == 6'"
      ]
     },
     "execution_count": 7,
     "metadata": {},
     "output_type": "execute_result"
    }
   ],
   "source": [
    "from itertools import cycle\n",
    "\n",
    "\n",
    "def direction_generator(blue_print):\n",
    "    t_dict = dict(L=0, R=1)\n",
    "    t_list = [t_dict[i] for i in blue_print]\n",
    "    return cycle(t_list)\n",
    "\n",
    "\n",
    "def solution_a(input_data):\n",
    "    directions, connections = input_data.split('\\n\\n')\n",
    "    nodes = {}\n",
    "    for n in connections.split('\\n'):\n",
    "        node, cnodes = n.replace(')','').split(' = (')\n",
    "        cnodes = cnodes.split(', ')\n",
    "        nodes[node] = cnodes\n",
    "    \n",
    "    d_gen = direction_generator(directions)\n",
    "    current_n = 'AAA'\n",
    "    steps = 0\n",
    "    while current_n != 'ZZZ':\n",
    "        d = next(d_gen)\n",
    "        current_n = nodes[current_n][d]\n",
    "        steps += 1\n",
    "    \n",
    "    return steps\n",
    "\n",
    "\n",
    "answer_a_example = solution_a(ex_input2)\n",
    "f'{answer_a_example} == 6'"
   ]
  },
  {
   "cell_type": "code",
   "execution_count": 38,
   "metadata": {},
   "outputs": [
    {
     "name": "stdout",
     "output_type": "stream",
     "text": [
      "13771\n",
      "\u001b[32mThat's the right answer!  You are one gold star closer to restoring snow operations. [Continue to Part Two]\u001b[0m\n"
     ]
    },
    {
     "data": {
      "text/plain": [
       "<urllib3.response.HTTPResponse at 0x7fad731c54b0>"
      ]
     },
     "execution_count": 38,
     "metadata": {},
     "output_type": "execute_result"
    }
   ],
   "source": [
    "answer_a = solution_a(puzzle.input_data)\n",
    "print(answer_a)\n",
    "submit(answer_a, day=8, year=2023, part='a')"
   ]
  },
  {
   "cell_type": "code",
   "execution_count": 2,
   "metadata": {},
   "outputs": [],
   "source": [
    "ex_input_b = \"\"\"LR\n",
    "\n",
    "11A = (11B, XXX)\n",
    "11B = (XXX, 11Z)\n",
    "11Z = (11B, XXX)\n",
    "22A = (22B, XXX)\n",
    "22B = (22C, 22C)\n",
    "22C = (22Z, 22Z)\n",
    "22Z = (22B, 22B)\n",
    "XXX = (XXX, XXX)\"\"\""
   ]
  },
  {
   "cell_type": "code",
   "execution_count": 26,
   "metadata": {},
   "outputs": [
    {
     "data": {
      "text/plain": [
       "'6 == 6'"
      ]
     },
     "execution_count": 26,
     "metadata": {},
     "output_type": "execute_result"
    }
   ],
   "source": [
    "from math import lcm\n",
    "\n",
    "\n",
    "def solution_b(input_data):\n",
    "    data = input_data.strip().split('\\n\\n')\n",
    "    directions = [0 if i == 'L' else 1 for i in data[0]]\n",
    "    node_con = {}\n",
    "    for n in data[1].split('\\n'):\n",
    "        node, cnodes = n.replace(')','').split(' = (')\n",
    "        cnodes = cnodes.split(', ')\n",
    "        node_con[node] = cnodes\n",
    "    \n",
    "    def solve_path(node, directions, node_con):\n",
    "        steps = 0\n",
    "        while not node.endswith('Z'):\n",
    "            d = directions[steps%len(directions)]\n",
    "            node = node_con[node][d]\n",
    "            steps += 1\n",
    "        return steps\n",
    "    \n",
    "    all_steps = [solve_path(n, directions, node_con) for n in node_con if n.endswith('A')]\n",
    "\n",
    "    return lcm(*all_steps)\n",
    "\n",
    "answer_b_example = solution_b(ex_input_b)\n",
    "f'{answer_b_example} == 6'"
   ]
  },
  {
   "cell_type": "code",
   "execution_count": 27,
   "metadata": {},
   "outputs": [
    {
     "name": "stdout",
     "output_type": "stream",
     "text": [
      "13129439557681\n"
     ]
    },
    {
     "name": "stdout",
     "output_type": "stream",
     "text": [
      "\u001b[32mThat's the right answer!  You are one gold star closer to restoring snow operations.You have completed Day 8! You can [Shareon\n",
      "  Twitter\n",
      "Mastodon] this victory or [Return to Your Advent Calendar].\u001b[0m\n"
     ]
    },
    {
     "data": {
      "text/plain": [
       "<urllib3.response.HTTPResponse at 0x7f3c0cad7c10>"
      ]
     },
     "execution_count": 27,
     "metadata": {},
     "output_type": "execute_result"
    }
   ],
   "source": [
    "answer_b = solution_b(puzzle.input_data)\n",
    "print(answer_b)\n",
    "submit(answer_b, day=8, year=2023, part='b')"
   ]
  },
  {
   "cell_type": "code",
   "execution_count": null,
   "metadata": {},
   "outputs": [],
   "source": []
  }
 ],
 "metadata": {
  "kernelspec": {
   "display_name": "aoc",
   "language": "python",
   "name": "python3"
  },
  "language_info": {
   "codemirror_mode": {
    "name": "ipython",
    "version": 3
   },
   "file_extension": ".py",
   "mimetype": "text/x-python",
   "name": "python",
   "nbconvert_exporter": "python",
   "pygments_lexer": "ipython3",
   "version": "3.11.6"
  },
  "orig_nbformat": 4
 },
 "nbformat": 4,
 "nbformat_minor": 2
}
