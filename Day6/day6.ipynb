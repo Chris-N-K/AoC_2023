{
 "cells": [
  {
   "cell_type": "code",
   "execution_count": 1,
   "metadata": {},
   "outputs": [
    {
     "name": "stdout",
     "output_type": "stream",
     "text": [
      "Wait For It\n",
      "Time:      7  15   30\n",
      "Distance:  9  40  200\n"
     ]
    }
   ],
   "source": [
    "from aocd.models  import Puzzle\n",
    "from aocd import submit\n",
    "\n",
    "puzzle = Puzzle(2023, 6)\n",
    "print(puzzle.title)\n",
    "ex_input = puzzle.examples[0].input_data\n",
    "print(ex_input)"
   ]
  },
  {
   "cell_type": "code",
   "execution_count": 2,
   "metadata": {},
   "outputs": [],
   "source": [
    "puzzle.view()"
   ]
  },
  {
   "cell_type": "code",
   "execution_count": 5,
   "metadata": {},
   "outputs": [
    {
     "data": {
      "text/plain": [
       "'Time:      7  15   30\\nDistance:  9  40  200'"
      ]
     },
     "execution_count": 5,
     "metadata": {},
     "output_type": "execute_result"
    }
   ],
   "source": [
    "puzzle.examples[0].input_data"
   ]
  },
  {
   "cell_type": "code",
   "execution_count": 15,
   "metadata": {},
   "outputs": [
    {
     "data": {
      "text/plain": [
       "'288 == 9'"
      ]
     },
     "execution_count": 15,
     "metadata": {},
     "output_type": "execute_result"
    }
   ],
   "source": [
    "import numpy as np\n",
    "\n",
    "starting_speed = 0\n",
    "speed_increase = (1, 1)\n",
    "\n",
    "def solution_a(input_data):\n",
    "    times, distances = input_data.replace('Time:','').replace('Distance:','').split('\\n')\n",
    "    times = list(map(int, times.split()))\n",
    "    distances = list(map(int, distances.split()))\n",
    "    total_wins = []\n",
    "    for t, d in zip(times, distances):\n",
    "        wins = 0\n",
    "        for btn_t in range(1, t):\n",
    "            travel_d = (t - btn_t) * btn_t\n",
    "            if travel_d > d:\n",
    "                wins += 1\n",
    "        total_wins.append(wins)\n",
    "    return np.prod(total_wins)\n",
    "\n",
    "answer_a_example = solution_a(ex_input)\n",
    "f'{answer_a_example} == {puzzle.examples[0].answer_a}'\n",
    "# Well the package did not work propperly again, it did not extract the right example answer.\n",
    "# example_answer_a should be 288"
   ]
  },
  {
   "cell_type": "code",
   "execution_count": 16,
   "metadata": {},
   "outputs": [
    {
     "name": "stderr",
     "output_type": "stream",
     "text": [
      "coerced int64 value 2269432 for 2023/06\n"
     ]
    },
    {
     "name": "stdout",
     "output_type": "stream",
     "text": [
      "2269432\n",
      "\u001b[32mThat's the right answer!  You are one gold star closer to restoring snow operations. [Continue to Part Two]\u001b[0m\n"
     ]
    },
    {
     "data": {
      "text/plain": [
       "<urllib3.response.HTTPResponse at 0x7f6bb4376e90>"
      ]
     },
     "execution_count": 16,
     "metadata": {},
     "output_type": "execute_result"
    }
   ],
   "source": [
    "answer_a = solution_a(puzzle.input_data)\n",
    "print(answer_a)\n",
    "submit(answer_a, day=6, year=2023, part='a')"
   ]
  },
  {
   "cell_type": "code",
   "execution_count": 37,
   "metadata": {},
   "outputs": [
    {
     "data": {
      "text/plain": [
       "71503"
      ]
     },
     "execution_count": 37,
     "metadata": {},
     "output_type": "execute_result"
    }
   ],
   "source": [
    "def solution_b(input_data):\n",
    "    time, distance = input_data.replace('Time:','').replace('Distance:','').split('\\n')\n",
    "    time = int(time.replace(' ',''))\n",
    "    distance = int(distance.replace(' ',''))\n",
    "\n",
    "    btn_t = 0\n",
    "    travel_d = 0\n",
    "    while True:\n",
    "        travel_d = (time - btn_t) * btn_t\n",
    "        if travel_d < distance:\n",
    "            btn_t += 1\n",
    "        else:\n",
    "            break\n",
    "    \n",
    "    min_btn = btn_t\n",
    "    max_btn = time - btn_t\n",
    "    return max_btn - min_btn + 1\n",
    "\n",
    "answer_b_example = solution_b(ex_input)\n",
    "answer_b_example"
   ]
  },
  {
   "cell_type": "code",
   "execution_count": 39,
   "metadata": {},
   "outputs": [
    {
     "name": "stdout",
     "output_type": "stream",
     "text": [
      "35865985\n",
      "\u001b[32mThat's the right answer!  You are one gold star closer to restoring snow operations.You have completed Day 6! You can [Shareon\n",
      "  Twitter\n",
      "Mastodon] this victory or [Return to Your Advent Calendar].\u001b[0m\n"
     ]
    },
    {
     "data": {
      "text/plain": [
       "<urllib3.response.HTTPResponse at 0x7f6bb4343b50>"
      ]
     },
     "execution_count": 39,
     "metadata": {},
     "output_type": "execute_result"
    }
   ],
   "source": [
    "answer_b = solution_b(puzzle.input_data)\n",
    "print(answer_b)\n",
    "submit(answer_b, day=6, year=2023, part='b')"
   ]
  },
  {
   "cell_type": "code",
   "execution_count": null,
   "metadata": {},
   "outputs": [],
   "source": []
  }
 ],
 "metadata": {
  "kernelspec": {
   "display_name": "aoc",
   "language": "python",
   "name": "python3"
  },
  "language_info": {
   "codemirror_mode": {
    "name": "ipython",
    "version": 3
   },
   "file_extension": ".py",
   "mimetype": "text/x-python",
   "name": "python",
   "nbconvert_exporter": "python",
   "pygments_lexer": "ipython3",
   "version": "3.12.0"
  },
  "orig_nbformat": 4
 },
 "nbformat": 4,
 "nbformat_minor": 2
}
