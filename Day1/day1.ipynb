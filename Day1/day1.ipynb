{
 "cells": [
  {
   "cell_type": "code",
   "execution_count": 30,
   "metadata": {},
   "outputs": [],
   "source": [
    "from aocd.models  import Puzzle\n",
    "from aocd import submit"
   ]
  },
  {
   "cell_type": "code",
   "execution_count": 31,
   "metadata": {},
   "outputs": [
    {
     "name": "stdout",
     "output_type": "stream",
     "text": [
      "Trebuchet?!\n"
     ]
    }
   ],
   "source": [
    "puzzle = Puzzle(2023, 1)\n",
    "print(puzzle.title)"
   ]
  },
  {
   "cell_type": "code",
   "execution_count": 14,
   "metadata": {},
   "outputs": [],
   "source": [
    "puzzle.view()"
   ]
  },
  {
   "cell_type": "code",
   "execution_count": 38,
   "metadata": {},
   "outputs": [
    {
     "data": {
      "text/plain": [
       "Example(input_data='1abc2\\npqr3stu8vwx\\na1b2c3d4e5f\\ntreb7uchet', answer_a='142', answer_b='281', extra=None)"
      ]
     },
     "execution_count": 38,
     "metadata": {},
     "output_type": "execute_result"
    }
   ],
   "source": [
    "example_a = puzzle.examples[0]\n",
    "example_a"
   ]
  },
  {
   "cell_type": "code",
   "execution_count": 272,
   "metadata": {},
   "outputs": [
    {
     "data": {
      "text/plain": [
       "'142 == 142'"
      ]
     },
     "execution_count": 272,
     "metadata": {},
     "output_type": "execute_result"
    }
   ],
   "source": [
    "import re\n",
    "\n",
    "def solution_a(input_data):\n",
    "    x = 0\n",
    "    for line in input_data.split():\n",
    "        digits = re.findall(r'\\d', line)\n",
    "        x += int(digits[0] + digits[-1])\n",
    "    return x\n",
    "\n",
    "example_a_solution = solution_a(example_a.input_data)\n",
    "f'{example_a_solution} == {example_a.answer_a}'"
   ]
  },
  {
   "cell_type": "code",
   "execution_count": 18,
   "metadata": {},
   "outputs": [
    {
     "name": "stdout",
     "output_type": "stream",
     "text": [
      "\u001b[32mThat's the right answer!  You are one gold star closer to restoring snow operations. [Continue to Part Two]\u001b[0m\n"
     ]
    },
    {
     "data": {
      "text/plain": [
       "<urllib3.response.HTTPResponse at 0x7f7a6f3982b0>"
      ]
     },
     "execution_count": 18,
     "metadata": {},
     "output_type": "execute_result"
    }
   ],
   "source": [
    "answer_a = solution_a(puzzle.input_data)\n",
    "submit(answer_a, day=1, year=2023, part='a')"
   ]
  },
  {
   "cell_type": "code",
   "execution_count": 40,
   "metadata": {},
   "outputs": [
    {
     "ename": "IndexError",
     "evalue": "list index out of range",
     "output_type": "error",
     "traceback": [
      "\u001b[0;31m---------------------------------------------------------------------------\u001b[0m",
      "\u001b[0;31mIndexError\u001b[0m                                Traceback (most recent call last)",
      "\u001b[1;32m/Chris-N-K/AoC_2023/Day1/day1.ipynb Cell 7\u001b[0m line \u001b[0;36m1\n\u001b[0;32m----> <a href='vscode-notebook-cell://github/Chris-N-K/AoC_2023/Day1/day1.ipynb#X11sdnNjb2RlLXZmcw%3D%3D?line=0'>1</a>\u001b[0m example_b \u001b[39m=\u001b[39m puzzle\u001b[39m.\u001b[39;49mexamples[\u001b[39m1\u001b[39;49m]\n",
      "\u001b[0;31mIndexError\u001b[0m: list index out of range"
     ]
    }
   ],
   "source": [
    "example_b = puzzle.examples[1]"
   ]
  },
  {
   "cell_type": "code",
   "execution_count": 41,
   "metadata": {},
   "outputs": [],
   "source": [
    "example_b_input_data = '''two1nine\n",
    "eightwothree\n",
    "abcone2threexyz\n",
    "xtwone3four\n",
    "4nineeightseven2\n",
    "zoneight234\n",
    "7pqrstsixteen'''"
   ]
  },
  {
   "cell_type": "code",
   "execution_count": 271,
   "metadata": {},
   "outputs": [
    {
     "data": {
      "text/plain": [
       "'281 == 281'"
      ]
     },
     "execution_count": 271,
     "metadata": {},
     "output_type": "execute_result"
    }
   ],
   "source": [
    "#-> wrong solution, does not account for overlapping number names\n",
    "#def solution_b(input_data):\n",
    "#    nn = {'one': '1', 'two': '2', 'three': '3', 'four': '4', 'five': '5', 'six': '6', 'seven': '7', 'eight': '8', 'nine': '9'}\n",
    "#    x = 0\n",
    "#    for line in input_data.split():\n",
    "#        raw_digits = re.findall(re.compile('|'.join([r'\\d', *nn])), line)\n",
    "#        digits = [n if n.isdigit() else nn[n] for n in raw_digits]\n",
    "#        print(raw_digits)\n",
    "#        x += int(digits[0] + digits[-1])\n",
    "#    return x\n",
    "\n",
    "\n",
    "def solution_b(input_data):\n",
    "    nn = {'one': '1', 'two': '2', 'three': '3', 'four': '4', 'five': '5', 'six': '6', 'seven': '7', 'eight': '8', 'nine': '9'}\n",
    "    x = 0\n",
    "    for line in input_data.split():\n",
    "        digits = []\n",
    "        for i in range(len(line)):\n",
    "            if line[i].isdigit():\n",
    "                digits.append(line[i])\n",
    "            else:\n",
    "                for j in range(i+1, len(line)+1):\n",
    "                    num_str = line[i:j]\n",
    "                    if num_str in nn:\n",
    "                        digits.append(nn[num_str])\n",
    "                        break\n",
    "        x += int(digits[0] + digits[-1])\n",
    "    return x\n",
    "\n",
    "example_b_solution = solution_b(example_b_input_data)\n",
    "f'{example_b_solution} == {examples[0].answer_b}'"
   ]
  },
  {
   "cell_type": "code",
   "execution_count": 135,
   "metadata": {},
   "outputs": [
    {
     "name": "stdout",
     "output_type": "stream",
     "text": [
      "\u001b[32mThat's the right answer!  You are one gold star closer to restoring snow operations.You have completed Day 1! You can [Shareon\n",
      "  Twitter\n",
      "Mastodon] this victory or [Return to Your Advent Calendar].\u001b[0m\n"
     ]
    },
    {
     "data": {
      "text/plain": [
       "<urllib3.response.HTTPResponse at 0x7f7a6cf5dfc0>"
      ]
     },
     "execution_count": 135,
     "metadata": {},
     "output_type": "execute_result"
    }
   ],
   "source": [
    "answer_b = solution_b(puzzle.input_data)\n",
    "submit(answer_b, day=1, year=2023, part='b')"
   ]
  },
  {
   "cell_type": "code",
   "execution_count": 270,
   "metadata": {},
   "outputs": [
    {
     "name": "stdout",
     "output_type": "stream",
     "text": [
      "two1nine ['2', '1', '9']\n",
      "eightwothree ['8', '2', '3']\n",
      "abcone2threexyz ['1', '2', '3']\n",
      "xtwone3four ['2', '1', '3', '4']\n",
      "4nineeightseven2 ['4', '9', '8', '7', '2']\n",
      "zoneight234 ['1', '8', '2', '3', '4']\n",
      "7pqrstsixteen ['7', '6']\n"
     ]
    },
    {
     "data": {
      "text/plain": [
       "'281 == 281'"
      ]
     },
     "execution_count": 270,
     "metadata": {},
     "output_type": "execute_result"
    }
   ],
   "source": [
    "# alternative solution for part b using regex\n",
    "from itertools import chain\n",
    "\n",
    "def solution_b_regex_alt(input_data):\n",
    "    nn = {'one': '1', 'two': '2', 'three': '3', 'four': '4', 'five': '5', 'six': '6', 'seven': '7', 'eight': '8', 'nine': '9'}\n",
    "    pattern = r'(?=(\\d)|' + '|'.join([f'({n})' for n in nn]) + ')'\n",
    "    x = 0\n",
    "    for line in input_data.split():\n",
    "        digits = [nn[i] if i in nn else i for i in filter(None, chain(*re.findall(pattern, line)))]\n",
    "        print(line, digits)\n",
    "        x += int(digits[0] + digits[-1])\n",
    "    return x\n",
    "\n",
    "alt_sol_b = solution_b_regex_alt(example_b_input_data)\n",
    "f'{alt_sol_b} == {puzzle.examples[0].answer_b}'"
   ]
  },
  {
   "cell_type": "code",
   "execution_count": null,
   "metadata": {},
   "outputs": [],
   "source": []
  }
 ],
 "metadata": {
  "kernelspec": {
   "display_name": "aoc",
   "language": "python",
   "name": "python3"
  },
  "language_info": {
   "codemirror_mode": {
    "name": "ipython",
    "version": 3
   },
   "file_extension": ".py",
   "mimetype": "text/x-python",
   "name": "python",
   "nbconvert_exporter": "python",
   "pygments_lexer": "ipython3",
   "version": "3.12.0"
  },
  "orig_nbformat": 4
 },
 "nbformat": 4,
 "nbformat_minor": 2
}
