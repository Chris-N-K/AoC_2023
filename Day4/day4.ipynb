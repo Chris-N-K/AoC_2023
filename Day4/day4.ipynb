{
 "cells": [
  {
   "cell_type": "code",
   "execution_count": 1,
   "metadata": {},
   "outputs": [
    {
     "name": "stdout",
     "output_type": "stream",
     "text": [
      "Scratchcards\n"
     ]
    }
   ],
   "source": [
    "from aocd.models  import Puzzle\n",
    "from aocd import submit\n",
    "\n",
    "puzzle = Puzzle(2023, 4)\n",
    "print(puzzle.title)"
   ]
  },
  {
   "cell_type": "code",
   "execution_count": 2,
   "metadata": {},
   "outputs": [],
   "source": [
    "puzzle.view()"
   ]
  },
  {
   "cell_type": "code",
   "execution_count": 7,
   "metadata": {},
   "outputs": [
    {
     "name": "stdout",
     "output_type": "stream",
     "text": [
      "Card 1: 41 48 83 86 17 | 83 86  6 31 17  9 48 53\n",
      "Card 2: 13 32 20 16 61 | 61 30 68 82 17 32 24 19\n",
      "Card 3:  1 21 53 59 44 | 69 82 63 72 16 21 14  1\n",
      "Card 4: 41 92 73 84 69 | 59 84 76 51 58  5 54 83\n",
      "Card 5: 87 83 26 28 32 | 88 30 70 12 93 22 82 36\n",
      "Card 6: 31 18 13 56 72 | 74 77 10 23 35 67 36 11\n",
      "13\n"
     ]
    }
   ],
   "source": [
    "example = puzzle.examples\n",
    "print(example[0].input_data)\n",
    "print(example[0].answer_a)"
   ]
  },
  {
   "cell_type": "code",
   "execution_count": 13,
   "metadata": {},
   "outputs": [
    {
     "data": {
      "text/plain": [
       "'13 == 13'"
      ]
     },
     "execution_count": 13,
     "metadata": {},
     "output_type": "execute_result"
    }
   ],
   "source": [
    "def solution_a(input_data):\n",
    "    x = 0\n",
    "    for line in input_data.split('\\n'):\n",
    "        raw_win_n, raw_elf_n = line.split(': ')[1].split(' | ')\n",
    "        win_n = [int(n) for n in raw_win_n.split() if n.isdigit()]\n",
    "        elf_n = [int(n) for n in raw_elf_n.split() if n.isdigit()]\n",
    "        points = 0\n",
    "        for n in elf_n:\n",
    "            if n in win_n:\n",
    "                if points:\n",
    "                    points *= 2\n",
    "                else:\n",
    "                    points = 1\n",
    "        x += points\n",
    "    return x\n",
    "\n",
    "answer_a_example = solution_a(example[0].input_data)\n",
    "f'{answer_a_example} == {example[0].answer_a}'"
   ]
  },
  {
   "cell_type": "code",
   "execution_count": 16,
   "metadata": {},
   "outputs": [
    {
     "name": "stdout",
     "output_type": "stream",
     "text": [
      "20667\n",
      "\u001b[32mThat's the right answer!  You are one gold star closer to restoring snow operations. [Continue to Part Two]\u001b[0m\n"
     ]
    },
    {
     "data": {
      "text/plain": [
       "<urllib3.response.HTTPResponse at 0x7fd6a41ad9f0>"
      ]
     },
     "execution_count": 16,
     "metadata": {},
     "output_type": "execute_result"
    }
   ],
   "source": [
    "answer_a = solution_a(puzzle.input_data)\n",
    "print(answer_a)\n",
    "submit(answer_a, day=4, year=2023, part='a')"
   ]
  },
  {
   "cell_type": "code",
   "execution_count": 31,
   "metadata": {},
   "outputs": [],
   "source": [
    "example_b_answer = 30"
   ]
  },
  {
   "cell_type": "code",
   "execution_count": 32,
   "metadata": {},
   "outputs": [
    {
     "data": {
      "text/plain": [
       "'30 == 30'"
      ]
     },
     "execution_count": 32,
     "metadata": {},
     "output_type": "execute_result"
    }
   ],
   "source": [
    "def solution_b(input_data):\n",
    "    scards = {}\n",
    "    for line in input_data.split('\\n'):\n",
    "        raw_cid, game = line.split(': ')\n",
    "        cid = int(raw_cid.replace('Card ', ''))\n",
    "        raw_win_n, raw_elf_n = game.split(' | ')\n",
    "        win_n = [int(n) for n in raw_win_n.split() if n.isdigit()]\n",
    "        elf_n = [int(n) for n in raw_elf_n.split() if n.isdigit()]\n",
    "        scards[cid] = dict(win_n=win_n, elf_n=elf_n)\n",
    "    card_count = dict(zip(scards, [0 for i in scards]))\n",
    "    cards = list(scards.keys())\n",
    "\n",
    "    while cards:\n",
    "        idx = cards.pop(0)\n",
    "        game = scards.get(idx)\n",
    "        if game:\n",
    "            card_count[idx] += 1\n",
    "            x = 1\n",
    "            copies = []\n",
    "            for n in game['elf_n']:\n",
    "                if n in game['win_n']:\n",
    "                    copies.append(idx + x)\n",
    "                    x += 1\n",
    "            cards = copies + cards  \n",
    "          \n",
    "    return sum(card_count.values())\n",
    "\n",
    "answer_b_example = solution_b(example[0].input_data)\n",
    "f'{answer_b_example} == {example_b_answer}'\n"
   ]
  },
  {
   "cell_type": "code",
   "execution_count": 33,
   "metadata": {},
   "outputs": [
    {
     "name": "stdout",
     "output_type": "stream",
     "text": [
      "5833065\n",
      "\u001b[32mThat's the right answer!  You are one gold star closer to restoring snow operations.You have completed Day 4! You can [Shareon\n",
      "  Twitter\n",
      "Mastodon] this victory or [Return to Your Advent Calendar].\u001b[0m\n"
     ]
    },
    {
     "data": {
      "text/plain": [
       "<urllib3.response.HTTPResponse at 0x7ff7f01c20e0>"
      ]
     },
     "execution_count": 33,
     "metadata": {},
     "output_type": "execute_result"
    }
   ],
   "source": [
    "answer_b = solution_b(puzzle.input_data)\n",
    "print(answer_b)\n",
    "submit(answer_b, day=4, year=2023, part='b')"
   ]
  },
  {
   "cell_type": "code",
   "execution_count": null,
   "metadata": {},
   "outputs": [],
   "source": []
  }
 ],
 "metadata": {
  "kernelspec": {
   "display_name": "aoc",
   "language": "python",
   "name": "python3"
  },
  "language_info": {
   "codemirror_mode": {
    "name": "ipython",
    "version": 3
   },
   "file_extension": ".py",
   "mimetype": "text/x-python",
   "name": "python",
   "nbconvert_exporter": "python",
   "pygments_lexer": "ipython3",
   "version": "3.12.0"
  },
  "orig_nbformat": 4
 },
 "nbformat": 4,
 "nbformat_minor": 2
}
